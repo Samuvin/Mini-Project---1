{
  "cells": [
    {
      "cell_type": "markdown",
      "metadata": {},
      "source": [
        "# Data Exploration and Analysis\n",
        "\n",
        "This notebook explores the Parkinson's Disease datasets across three modalities:\n",
        "- Speech/Voice data\n",
        "- Handwriting data  \n",
        "- Gait data\n",
        "\n",
        "We'll analyze distributions, correlations, and prepare the data for modeling.\n"
      ]
    }
  ],
  "metadata": {
    "language_info": {
      "name": "python"
    }
  },
  "nbformat": 4,
  "nbformat_minor": 2
}
